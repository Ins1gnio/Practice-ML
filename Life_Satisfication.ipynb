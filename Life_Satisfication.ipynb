{
  "nbformat": 4,
  "nbformat_minor": 0,
  "metadata": {
    "colab": {
      "provenance": [],
      "authorship_tag": "ABX9TyMVVwP/xEj3JwGwjUB/vyVg",
      "include_colab_link": true
    },
    "kernelspec": {
      "name": "python3",
      "display_name": "Python 3"
    },
    "language_info": {
      "name": "python"
    }
  },
  "cells": [
    {
      "cell_type": "markdown",
      "metadata": {
        "id": "view-in-github",
        "colab_type": "text"
      },
      "source": [
        "<a href=\"https://colab.research.google.com/github/Ins1gnio/Practice-ML/blob/main/Life_Satisfication.ipynb\" target=\"_parent\"><img src=\"https://colab.research.google.com/assets/colab-badge.svg\" alt=\"Open In Colab\"/></a>"
      ]
    },
    {
      "cell_type": "code",
      "execution_count": null,
      "metadata": {
        "id": "f_lmVDNUqcQ7"
      },
      "outputs": [],
      "source": [
        "import pandas as pd"
      ]
    },
    {
      "cell_type": "code",
      "source": [
        "data_root = \"https://github.com/ageron/data/raw/main/\"\n",
        "lifesat = pd.read_csv(data_root + \"lifesat/lifesat.csv\")\n",
        "print(lifesat)"
      ],
      "metadata": {
        "colab": {
          "base_uri": "https://localhost:8080/"
        },
        "id": "fGBJDKAPqka5",
        "outputId": "9a379d25-04c0-4000-e588-5312631ed719"
      },
      "execution_count": 10,
      "outputs": [
        {
          "output_type": "stream",
          "name": "stdout",
          "text": [
            "           Country  GDP per capita (USD)  Life satisfaction\n",
            "0           Russia          26456.387938                5.8\n",
            "1           Greece          27287.083401                5.4\n",
            "2           Turkey          28384.987785                5.5\n",
            "3           Latvia          29932.493910                5.9\n",
            "4          Hungary          31007.768407                5.6\n",
            "5         Portugal          32181.154537                5.4\n",
            "6           Poland          32238.157259                6.1\n",
            "7          Estonia          35638.421351                5.7\n",
            "8            Spain          36215.447591                6.3\n",
            "9         Slovenia          36547.738956                5.9\n",
            "10       Lithuania          36732.034744                5.9\n",
            "11          Israel          38341.307570                7.2\n",
            "12           Italy          38992.148381                6.0\n",
            "13  United Kingdom          41627.129269                6.8\n",
            "14          France          42025.617373                6.5\n",
            "15     New Zealand          42404.393738                7.3\n",
            "16          Canada          45856.625626                7.4\n",
            "17         Finland          47260.800458                7.6\n",
            "18         Belgium          48210.033111                6.9\n",
            "19       Australia          48697.837028                7.3\n",
            "20          Sweden          50683.323510                7.3\n",
            "21         Germany          50922.358023                7.0\n",
            "22         Austria          51935.603862                7.1\n",
            "23         Iceland          52279.728851                7.5\n",
            "24     Netherlands          54209.563836                7.4\n",
            "25         Denmark          55938.212809                7.6\n",
            "26   United States          60235.728492                6.9\n"
          ]
        }
      ]
    },
    {
      "cell_type": "code",
      "source": [
        "X = lifesat[[\"GDP per capita (USD)\"]].values\n",
        "y = lifesat[[\"Life satisfaction\"]].values"
      ],
      "metadata": {
        "id": "4OWeHv9Bunnj"
      },
      "execution_count": 11,
      "outputs": []
    }
  ]
}